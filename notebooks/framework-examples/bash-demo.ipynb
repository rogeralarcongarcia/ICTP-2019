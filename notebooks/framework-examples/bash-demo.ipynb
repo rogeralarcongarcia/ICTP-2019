{
 "cells": [
  {
   "cell_type": "code",
   "execution_count": 1,
   "metadata": {
    "collapsed": false
   },
   "outputs": [
    {
     "name": "stdout",
     "output_type": "stream",
     "text": [
      "Mit Okt 30 00:54:43 CET 2019\n",
      "/home/student\n"
     ]
    }
   ],
   "source": [
    "date\n",
    "pwd"
   ]
  },
  {
   "cell_type": "code",
   "execution_count": 2,
   "metadata": {
    "collapsed": false
   },
   "outputs": [
    {
     "name": "stdout",
     "output_type": "stream",
     "text": [
      "/home/student/demo\n"
     ]
    }
   ],
   "source": [
    "mkdir demo\n",
    "cd demo\n",
    "pwd"
   ]
  },
  {
   "cell_type": "code",
   "execution_count": 3,
   "metadata": {
    "collapsed": false
   },
   "outputs": [
    {
     "name": "stdout",
     "output_type": "stream",
     "text": [
      "Cloning into 'atlas-outreach-cpp-framework-13tev'...\n",
      "remote: Enumerating objects: 773, done.\u001b[K\n",
      "remote: Counting objects: 100% (773/773), done.\u001b[K\n",
      "remote: Compressing objects: 100% (296/296), done.\u001b[K\n",
      "remote: Total 773 (delta 505), reused 735 (delta 473)\u001b[K\n",
      "Receiving objects: 100% (773/773), 475.87 KiB | 0 bytes/s, done.\n",
      "Resolving deltas: 100% (505/505), done.\n",
      "Checking connectivity... done.\n"
     ]
    }
   ],
   "source": [
    "git clone https://gitlab.cern.ch/arturos/atlas-outreach-cpp-framework-13tev.git"
   ]
  },
  {
   "cell_type": "code",
   "execution_count": 4,
   "metadata": {
    "collapsed": false
   },
   "outputs": [
    {
     "name": "stdout",
     "output_type": "stream",
     "text": [
      "/home/student/demo/atlas-outreach-cpp-framework-13tev/Alpha\n"
     ]
    }
   ],
   "source": [
    "cd atlas-outreach-cpp-framework-13tev/Alpha\n",
    "pwd"
   ]
  },
  {
   "cell_type": "code",
   "execution_count": 5,
   "metadata": {
    "collapsed": false
   },
   "outputs": [
    {
     "name": "stdout",
     "output_type": "stream",
     "text": [
      "On branch master\n",
      "Your branch is up-to-date with 'origin/master'.\n",
      "nothing to commit, working directory clean\n"
     ]
    }
   ],
   "source": [
    "git status"
   ]
  },
  {
   "cell_type": "code",
   "execution_count": 6,
   "metadata": {
    "collapsed": false
   },
   "outputs": [
    {
     "name": "stdout",
     "output_type": "stream",
     "text": [
      "Welcome to ATLAS 13 TeV Open Data C++ framework!!!\n",
      "Input your option now\n",
      "1 = create all output directories (do it at the very beginning just once)\n",
      "0 = remove all output directories (in case you want to clean and begin from zero)\n",
      "Creating the directory: Analysis/WBosonAnalysis/Output_WBosonAnalysis\n",
      "Creating the directory: Analysis/ZBosonAnalysis/Output_ZBosonAnalysis\n",
      "Creating the directory: Analysis/TTbarAnalysis/Output_TTbarAnalysis\n",
      "Creating the directory: Analysis/SingleTopAnalysis/Output_SingleTopAnalysis\n",
      "Creating the directory: Analysis/WZDiBosonAnalysis/Output_WZDiBosonAnalysis\n",
      "Creating the directory: Analysis/ZZDiBosonAnalysis/Output_ZZDiBosonAnalysis\n",
      "Creating the directory: Analysis/HWWAnalysis/Output_HWWAnalysis\n",
      "Creating the directory: Analysis/HZZAnalysis/Output_HZZAnalysis\n",
      "Creating the directory: Analysis/ZTauTauAnalysis/Output_ZTauTauAnalysis\n",
      "Creating the directory: Analysis/HyyAnalysis/Output_HyyAnalysis\n",
      "Creating the directory: Analysis/SUSYAnalysis/Output_SUSYAnalysis\n",
      "Creating the directory: Analysis/ZPrimeBoostedAnalysis/Output_ZPrimeBoostedAnalysis\n",
      "creating the output directory for the Plotting code: Plotting/histograms\n"
     ]
    }
   ],
   "source": [
    "echo \"1\" | ./welcome.sh"
   ]
  },
  {
   "cell_type": "markdown",
   "metadata": {},
   "source": [
    "Select one analysis"
   ]
  },
  {
   "cell_type": "code",
   "execution_count": 7,
   "metadata": {
    "collapsed": true
   },
   "outputs": [],
   "source": [
    "#analysis=\"HWWAnalysis\"\n",
    "#analysis=\"HyyAnalysis\"\n",
    "analysis=\"HZZAnalysis\"\n",
    "#analysis=\"SingleTopAnalysis\"\n",
    "#analysis=\"SUSYAnalysis\"\n",
    "#analysis=\"TTbarAnalysis\"\n",
    "#analysis=\"WBosonAnalysis\"\n",
    "#analysis=\"WZDiBosonAnalysis\"\n",
    "#analysis=\"ZBosonAnalysis\"\n",
    "#analysis=\"ZPrimeBoostedAnalysis\"\n",
    "#analysis=\"ZTauTauAnalysis\"\n",
    "#analysis=\"ZZDiBosonAnalysis\""
   ]
  },
  {
   "cell_type": "code",
   "execution_count": 8,
   "metadata": {
    "collapsed": false
   },
   "outputs": [
    {
     "name": "stdout",
     "output_type": "stream",
     "text": [
      "/home/student/demo/atlas-outreach-cpp-framework-13tev/Alpha/Analysis/HZZAnalysis\n"
     ]
    }
   ],
   "source": [
    "cd Analysis/$analysis\n",
    "pwd"
   ]
  },
  {
   "cell_type": "code",
   "execution_count": 9,
   "metadata": {
    "collapsed": false
   },
   "outputs": [
    {
     "name": "stdout",
     "output_type": "stream",
     "text": [
      "Which option should I run?\n",
      "Options are:\n",
      "0 = run all data and MC one after another\n",
      "1 = run data only\n",
      "2,3 = run MC samples only\n",
      "Option is 0\n",
      "Should I use PROOF? (will make things faster)\n",
      "Options are:\n",
      "0 = NO\n",
      "1 = YES\n",
      "PROOF option is 1\n",
      "starting ROOT\n",
      "Info in <TUnixSystem::ACLiC>: creating shared library /home/student/demo/atlas-outreach-cpp-framework-13tev/Alpha/Analysis/HZZAnalysis/./main_HZZAnalysis_C.so\n",
      " +++ Starting PROOF-Lite with 2 workers +++\n",
      "Opening connections to workers: OK (2 workers)                 \n",
      "Setting up worker servers: OK (2 workers)                 \n",
      "PROOF set to parallel mode (2 workers)\n",
      " \n",
      "Info in <TProofLite::SetQueryRunning>: starting query: 1\n",
      "Info in <TProofQueryResult::SetRunning>: nwrks: 2\n",
      "Info in <TUnixSystem::ACLiC>: creating shared library /home/student/demo/atlas-outreach-cpp-framework-13tev/Alpha/Analysis/HZZAnalysis/./HZZAnalysis_C.so\n",
      "Looking up for exact location of files: OK (4 files)                 \n",
      "Looking up for exact location of files: OK (4 files)                 \n",
      "Info in <TPacketizer::TPacketizer>: Initial number of workers: 2\n",
      "Validating files: OK (4 files)                 \n",
      "[TProof::Progress] Total 832 events\t|====================| 100.00 % [2468.8 evts/s, 1.3 MB/s, time left: 0.0 s]\n",
      " Query processing time: 0.3 s\n",
      "Writting with name option: data \n",
      "Lite-0: all output objects have been merged                                                         \n",
      " \n",
      "Info in <TProofLite::SetQueryRunning>: starting query: 2\n",
      "Info in <TProofQueryResult::SetRunning>: nwrks: 2\n",
      "Info in <ACLiC>: unmodified script has already been compiled and loaded\n",
      "Looking up for exact location of files: OK (1 files)                 \n",
      "Looking up for exact location of files: OK (1 files)                 \n",
      "Info in <TPacketizer::TPacketizer>: Initial number of workers: 2\n",
      "Validating files: OK (1 files)                 \n",
      "[TProof::Progress] Total 254 events\t|====================| 100.00 % [1969.0 evts/s, 1.6 MB/s, time left: 0.0 s]\n",
      " Query processing time: 0.1 s\n",
      "Writting with name option: ZqqZll \n",
      "Lite-0: all output objects have been merged                                                         \n",
      " \n",
      "Info in <TProofLite::SetQueryRunning>: starting query: 3\n",
      "Info in <TProofQueryResult::SetRunning>: nwrks: 2\n",
      "Info in <ACLiC>: unmodified script has already been compiled and loaded\n",
      "Looking up for exact location of files: OK (1 files)                 \n",
      "Looking up for exact location of files: OK (1 files)                 \n",
      "Info in <TPacketizer::TPacketizer>: Initial number of workers: 2\n",
      "Validating files: OK (1 files)                 \n",
      "[TProof::Progress] Total 1316619 events\t|====================| 100.00 % [33875.9 evts/s, 16.4 MB/s, time left: 0.0 s]\n",
      " Query processing time: 38.9 s\n",
      "Writting with name option: WqqZll \n",
      "Lite-0: all output objects have been merged                                                         \n",
      " \n",
      "Info in <TProofLite::SetQueryRunning>: starting query: 4\n",
      "Info in <TProofQueryResult::SetRunning>: nwrks: 2\n",
      "Info in <ACLiC>: unmodified script has already been compiled and loaded\n",
      "Looking up for exact location of files: OK (1 files)                 \n",
      "Looking up for exact location of files: OK (1 files)                 \n",
      "Info in <TPacketizer::TPacketizer>: Initial number of workers: 2\n",
      "Validating files: OK (1 files)                 \n",
      "[TProof::Progress] Total 13375 events\t|====================| 100.00 % [4370.9 evts/s, 2.2 MB/s, time left: 0.0 s]\n",
      " Query processing time: 3.1 s\n",
      "Writting with name option: WpqqWmlv \n",
      "Lite-0: all output objects have been merged                                                         \n",
      " \n",
      "Info in <TProofLite::SetQueryRunning>: starting query: 5\n",
      "Info in <TProofQueryResult::SetRunning>: nwrks: 2\n",
      "Info in <ACLiC>: unmodified script has already been compiled and loaded\n",
      "Looking up for exact location of files: OK (1 files)                 \n",
      "Looking up for exact location of files: OK (1 files)                 \n",
      "Info in <TPacketizer::TPacketizer>: Initial number of workers: 2\n",
      "Validating files: OK (1 files)                 \n",
      "[TProof::Progress] Total 14245 events\t|====================| 100.00 % [4493.7 evts/s, 2.2 MB/s, time left: 0.0 s]\n",
      " Query processing time: 3.2 s\n",
      "Writting with name option: WplvWmqq \n",
      "Lite-0: all output objects have been merged                                                         \n",
      " \n",
      "Info in <TProofLite::SetQueryRunning>: starting query: 6\n",
      "Info in <TProofQueryResult::SetRunning>: nwrks: 2\n",
      "Info in <ACLiC>: unmodified script has already been compiled and loaded\n",
      "Looking up for exact location of files: OK (1 files)                 \n",
      "Looking up for exact location of files: OK (1 files)                 \n",
      "Info in <TPacketizer::TPacketizer>: Initial number of workers: 2\n",
      "Validating files: OK (1 files)                 \n",
      "[TProof::Progress] Total 28199 events\t|====================| 100.00 % [16539.0 evts/s, 6.1 MB/s, time left: 0.0 s]\n",
      " Query processing time: 1.7 s\n",
      "Writting with name option: WlvZqq \n",
      "Lite-0: all output objects have been merged                                                         \n",
      " \n",
      "Info in <TProofLite::SetQueryRunning>: starting query: 7\n",
      "Info in <TProofQueryResult::SetRunning>: nwrks: 2\n",
      "Info in <ACLiC>: unmodified script has already been compiled and loaded\n",
      "Looking up for exact location of files: OK (1 files)                 \n",
      "Looking up for exact location of files: OK (1 files)                 \n",
      "Info in <TPacketizer::TPacketizer>: Initial number of workers: 2\n",
      "Validating files: OK (1 files)                 \n",
      "[TProof::Progress] Total 554279 events\t|====================| 100.00 % [22853.1 evts/s, 14.4 MB/s, time left: 0.0 s]\n",
      " Query processing time: 24.3 s\n",
      "Writting with name option: llll \n",
      "Lite-0: all output objects have been merged                                                         \n",
      " \n",
      "Info in <TProofLite::SetQueryRunning>: starting query: 8\n",
      "Info in <TProofQueryResult::SetRunning>: nwrks: 2\n",
      "Info in <ACLiC>: unmodified script has already been compiled and loaded\n",
      "Looking up for exact location of files: OK (1 files)                 \n",
      "Looking up for exact location of files: OK (1 files)                 \n",
      "Info in <TPacketizer::TPacketizer>: Initial number of workers: 2\n",
      "Validating files: OK (1 files)                 \n",
      "[TProof::Progress] Total 9340 events\t|====================| 100.00 % [9368.1 evts/s, 6.6 MB/s, time left: 0.0 s]\n",
      " Query processing time: 1.0 s\n",
      "Writting with name option: lllv \n",
      "Lite-0: all output objects have been merged                                                         \n",
      " \n",
      "Info in <TProofLite::SetQueryRunning>: starting query: 9\n",
      "Info in <TProofQueryResult::SetRunning>: nwrks: 2\n",
      "Info in <ACLiC>: unmodified script has already been compiled and loaded\n",
      "Looking up for exact location of files: OK (1 files)                 \n",
      "Looking up for exact location of files: OK (1 files)                 \n",
      "Info in <TPacketizer::TPacketizer>: Initial number of workers: 2\n",
      "Validating files: OK (1 files)                 \n",
      "[TProof::Progress] Total 137 events\t|====================| 100.00 % [1223.2 evts/s, 1.2 MB/s, time left: 0.0 s]\n",
      " Query processing time: 0.1 s\n",
      "Writting with name option: llvv \n",
      "Lite-0: all output objects have been merged                                                         \n",
      " \n",
      "Info in <TProofLite::SetQueryRunning>: starting query: 10\n",
      "Info in <TProofQueryResult::SetRunning>: nwrks: 2\n",
      "Info in <ACLiC>: unmodified script has already been compiled and loaded\n",
      "Looking up for exact location of files: OK (1 files)                 \n",
      "Looking up for exact location of files: OK (1 files)                 \n",
      "Info in <TPacketizer::TPacketizer>: Initial number of workers: 2\n",
      "Validating files: OK (1 files)                 \n",
      "[TProof::Progress] Total 11789 events\t|====================| 100.00 % [4214.9 evts/s, 2.2 MB/s, time left: 0.0 s]\n",
      " Query processing time: 2.8 s\n",
      "Writting with name option: lvvv \n",
      "Lite-0: all output objects have been merged                                                         \n",
      " \n",
      "Info in <TProofLite::SetQueryRunning>: starting query: 11\n",
      "Info in <TProofQueryResult::SetRunning>: nwrks: 2\n",
      "Info in <ACLiC>: unmodified script has already been compiled and loaded\n",
      "Looking up for exact location of files: OK (1 files)                 \n",
      "Looking up for exact location of files: OK (1 files)                 \n",
      "Info in <TPacketizer::TPacketizer>: Initial number of workers: 2\n",
      "Validating files: OK (1 files)                 \n",
      "[TProof::Progress] Total 898 events\t|====================| 100.00 % [6067.6 evts/s, 3.8 MB/s, time left: 0.0 s]\n",
      " Query processing time: 0.1 s\n",
      "Writting with name option: Zee \n",
      "Lite-0: all output objects have been merged                                                         \n",
      " \n",
      "Info in <TProofLite::SetQueryRunning>: starting query: 12\n",
      "Info in <TProofQueryResult::SetRunning>: nwrks: 2\n",
      "Info in <ACLiC>: unmodified script has already been compiled and loaded\n",
      "Looking up for exact location of files: OK (1 files)                 \n",
      "Looking up for exact location of files: OK (1 files)                 \n",
      "Info in <TPacketizer::TPacketizer>: Initial number of workers: 2\n",
      "Validating files: OK (1 files)                 \n",
      "[TProof::Progress] Total 684 events\t|====================| 100.00 % [4717.2 evts/s, 3.1 MB/s, time left: 0.0 s]\n",
      " Query processing time: 0.1 s\n",
      "Writting with name option: Zmumu \n",
      "Lite-0: all output objects have been merged                                                         \n",
      " \n",
      "Info in <TProofLite::SetQueryRunning>: starting query: 13\n",
      "Info in <TProofQueryResult::SetRunning>: nwrks: 2\n",
      "Info in <ACLiC>: unmodified script has already been compiled and loaded\n",
      "Looking up for exact location of files: OK (1 files)                 \n",
      "Looking up for exact location of files: OK (1 files)                 \n",
      "Info in <TPacketizer::TPacketizer>: Initial number of workers: 2\n",
      "Validating files: OK (1 files)                 \n",
      "[TProof::Progress] Total 9 events\t|====================| 100.00 % [98.9 evts/s, 381.3 kB/s, time left: 0.0 s]\n",
      " Query processing time: 0.1 s\n",
      "Writting with name option: Ztautau \n",
      "Lite-0: all output objects have been merged                                                         \n",
      " \n",
      "Info in <TProofLite::SetQueryRunning>: starting query: 14\n",
      "Info in <TProofQueryResult::SetRunning>: nwrks: 2\n",
      "Info in <ACLiC>: unmodified script has already been compiled and loaded\n",
      "Looking up for exact location of files: OK (1 files)                 \n",
      "Looking up for exact location of files: OK (1 files)                 \n",
      "Info in <TPacketizer::TPacketizer>: Initial number of workers: 2\n",
      "Validating files: OK (1 files)                 \n",
      "[TProof::Progress] Total 2 events\t|====================| 100.00 % [20.6 evts/s, 306.6 kB/s, time left: 0.0 s]\n",
      " Query processing time: 0.1 s\n",
      "Writting with name option: single_top_tchan \n",
      "Lite-0: all output objects have been merged                                                         \n",
      " \n",
      "Info in <TProofLite::SetQueryRunning>: starting query: 15\n",
      "Info in <TProofQueryResult::SetRunning>: nwrks: 2\n",
      "Info in <ACLiC>: unmodified script has already been compiled and loaded\n",
      "Looking up for exact location of files: OK (1 files)                 \n",
      "Looking up for exact location of files: OK (1 files)                 \n",
      "Info in <TPacketizer::TPacketizer>: Initial number of workers: 2\n",
      "Validating files: OK (1 files)                 \n",
      "[TProof::Progress] Total 2 events\t|====================| 100.00 % [22.7 evts/s, 342.2 kB/s, time left: 0.0 s]\n",
      " Query processing time: 0.1 s\n",
      "Writting with name option: single_antitop_tchan \n",
      "Lite-0: all output objects have been merged                                                         \n",
      " \n",
      "Info in <TProofLite::SetQueryRunning>: starting query: 16\n",
      "Info in <TProofQueryResult::SetRunning>: nwrks: 2\n",
      "Info in <ACLiC>: unmodified script has already been compiled and loaded\n",
      "Looking up for exact location of files: OK (1 files)                 \n",
      "Looking up for exact location of files: OK (1 files)                 \n",
      "Info in <TPacketizer::TPacketizer>: Initial number of workers: 2\n",
      "Validating files: OK (1 files)                 \n",
      "[TProof::Progress] Total 2 events\t|====================| 100.00 % [22.0 evts/s, 318.3 kB/s, time left: 0.0 s]\n",
      " Query processing time: 0.1 s\n",
      "Writting with name option: single_top_schan \n",
      "Lite-0: all output objects have been merged                                                         \n",
      " \n",
      "Info in <TProofLite::SetQueryRunning>: starting query: 17\n",
      "Info in <TProofQueryResult::SetRunning>: nwrks: 2\n",
      "Info in <ACLiC>: unmodified script has already been compiled and loaded\n",
      "Looking up for exact location of files: OK (1 files)                 \n",
      "Looking up for exact location of files: OK (1 files)                 \n",
      "Info in <TPacketizer::TPacketizer>: Initial number of workers: 2\n",
      "Validating files: OK (1 files)                 \n",
      "[TProof::Progress] Total 2 events\t|====================| 100.00 % [20.6 evts/s, 297.2 kB/s, time left: 0.0 s]\n",
      " Query processing time: 0.1 s\n",
      "Writting with name option: single_antitop_schan \n",
      "Lite-0: all output objects have been merged                                                         \n",
      " \n",
      "Info in <TProofLite::SetQueryRunning>: starting query: 18\n",
      "Info in <TProofQueryResult::SetRunning>: nwrks: 2\n",
      "Info in <ACLiC>: unmodified script has already been compiled and loaded\n",
      "Looking up for exact location of files: OK (1 files)                 \n",
      "Looking up for exact location of files: OK (1 files)                 \n",
      "Info in <TPacketizer::TPacketizer>: Initial number of workers: 2\n",
      "Validating files: OK (1 files)                 \n",
      "[TProof::Progress] Total 56 events\t|====================| 100.00 % [533.3 evts/s, 669.2 kB/s, time left: 0.0 s]\n",
      " Query processing time: 0.1 s\n",
      "Writting with name option: single_top_wtchan \n",
      "Lite-0: all output objects have been merged                                                         \n",
      " \n",
      "Info in <TProofLite::SetQueryRunning>: starting query: 19\n",
      "Info in <TProofQueryResult::SetRunning>: nwrks: 2\n",
      "Info in <ACLiC>: unmodified script has already been compiled and loaded\n",
      "Looking up for exact location of files: OK (1 files)                 \n",
      "Looking up for exact location of files: OK (1 files)                 \n",
      "Info in <TPacketizer::TPacketizer>: Initial number of workers: 2\n",
      "Validating files: OK (1 files)                 \n",
      "[TProof::Progress] Total 48 events\t|====================| 100.00 % [428.6 evts/s, 573.0 kB/s, time left: 0.0 s]\n",
      " Query processing time: 0.1 s\n",
      "Writting with name option: single_antitop_wtchan \n",
      "Lite-0: all output objects have been merged                                                         \n",
      " \n",
      "Info in <TProofLite::SetQueryRunning>: starting query: 20\n",
      "Info in <TProofQueryResult::SetRunning>: nwrks: 2\n",
      "Info in <ACLiC>: unmodified script has already been compiled and loaded\n",
      "Looking up for exact location of files: OK (1 files)                 \n",
      "Looking up for exact location of files: OK (1 files)                 \n",
      "Info in <TPacketizer::TPacketizer>: Initial number of workers: 2\n",
      "Validating files: OK (1 files)                 \n",
      "[TProof::Progress] Total 1031 events\t|====================| 100.00 % [6100.6 evts/s, 4.5 MB/s, time left: 0.0 s]\n",
      " Query processing time: 0.2 s\n",
      "Writting with name option: ttbar_lep \n",
      "Lite-0: all output objects have been merged                                                         \n",
      " \n",
      "Info in <TProofLite::SetQueryRunning>: starting query: 21\n",
      "Info in <TProofQueryResult::SetRunning>: nwrks: 2\n",
      "Info in <ACLiC>: unmodified script has already been compiled and loaded\n",
      "Looking up for exact location of files: OK (1 files)                 \n",
      "Looking up for exact location of files: OK (1 files)                 \n",
      "Info in <TPacketizer::TPacketizer>: Initial number of workers: 2\n",
      "Validating files: OK (1 files)                 \n",
      "[TProof::Progress] Total 41502 events\t|====================| 100.00 % [24171.2 evts/s, 8.3 MB/s, time left: 0.0 s]\n",
      " Query processing time: 1.7 s\n",
      "Writting with name option: Wplusenu \n",
      "Lite-0: all output objects have been merged                                                         \n",
      " \n",
      "Info in <TProofLite::SetQueryRunning>: starting query: 22\n",
      "Info in <TProofQueryResult::SetRunning>: nwrks: 2\n",
      "Info in <ACLiC>: unmodified script has already been compiled and loaded\n",
      "Looking up for exact location of files: OK (1 files)                 \n",
      "Looking up for exact location of files: OK (1 files)                 \n",
      "Info in <TPacketizer::TPacketizer>: Initial number of workers: 2\n",
      "Validating files: OK (1 files)                 \n",
      "[TProof::Progress] Total 35184 events\t|====================| 100.00 % [22568.3 evts/s, 7.7 MB/s, time left: 0.0 s]\n",
      " Query processing time: 1.6 s\n",
      "Writting with name option: Wplusmunu \n",
      "Lite-0: all output objects have been merged                                                         \n",
      " \n",
      "Info in <TProofLite::SetQueryRunning>: starting query: 23\n",
      "Info in <TProofQueryResult::SetRunning>: nwrks: 2\n",
      "Info in <ACLiC>: unmodified script has already been compiled and loaded\n",
      "Looking up for exact location of files: OK (1 files)                 \n",
      "Looking up for exact location of files: OK (1 files)                 \n",
      "Info in <TPacketizer::TPacketizer>: Initial number of workers: 2\n",
      "Validating files: OK (1 files)                 \n",
      "[TProof::Progress] Total 1774 events\t|====================| 100.00 % [9005.1 evts/s, 4.5 MB/s, time left: 0.0 s]\n",
      " Query processing time: 0.2 s\n",
      "Writting with name option: Wplustaunu \n",
      "Lite-0: all output objects have been merged                                                         \n",
      " \n",
      "Info in <TProofLite::SetQueryRunning>: starting query: 24\n",
      "Info in <TProofQueryResult::SetRunning>: nwrks: 2\n",
      "Info in <ACLiC>: unmodified script has already been compiled and loaded\n",
      "Looking up for exact location of files: OK (1 files)                 \n",
      "Looking up for exact location of files: OK (1 files)                 \n",
      "Info in <TPacketizer::TPacketizer>: Initial number of workers: 2\n",
      "Validating files: OK (1 files)                 \n",
      "[TProof::Progress] Total 31893 events\t|====================| 100.00 % [19723.6 evts/s, 5.8 MB/s, time left: 0.0 s]\n",
      " Query processing time: 1.6 s\n",
      "Writting with name option: Wminusenu \n",
      "Lite-0: all output objects have been merged                                                         \n",
      " \n",
      "Info in <TProofLite::SetQueryRunning>: starting query: 25\n",
      "Info in <TProofQueryResult::SetRunning>: nwrks: 2\n",
      "Info in <ACLiC>: unmodified script has already been compiled and loaded\n",
      "Looking up for exact location of files: OK (1 files)                 \n",
      "Looking up for exact location of files: OK (1 files)                 \n",
      "Info in <TPacketizer::TPacketizer>: Initial number of workers: 2\n",
      "Validating files: OK (1 files)                 \n",
      "[TProof::Progress] Total 30307 events\t|====================| 100.00 % [16940.8 evts/s, 5.1 MB/s, time left: 0.0 s]\n",
      " Query processing time: 1.8 s\n",
      "Writting with name option: Wminusmunu \n",
      "Lite-0: all output objects have been merged                                                         \n",
      " \n",
      "Info in <TProofLite::SetQueryRunning>: starting query: 26\n",
      "Info in <TProofQueryResult::SetRunning>: nwrks: 2\n",
      "Info in <ACLiC>: unmodified script has already been compiled and loaded\n",
      "Looking up for exact location of files: OK (1 files)                 \n",
      "Looking up for exact location of files: OK (1 files)                 \n",
      "Info in <TPacketizer::TPacketizer>: Initial number of workers: 2\n",
      "Validating files: OK (1 files)                 \n",
      "[TProof::Progress] Total 1409 events\t|====================| 100.00 % [7338.5 evts/s, 3.6 MB/s, time left: 0.0 s]\n",
      " Query processing time: 0.2 s\n",
      "Writting with name option: Wminustaunu \n",
      "Lite-0: all output objects have been merged                                                         \n",
      " \n",
      "Info in <TProofLite::SetQueryRunning>: starting query: 27\n",
      "Info in <TProofQueryResult::SetRunning>: nwrks: 2\n",
      "Info in <ACLiC>: unmodified script has already been compiled and loaded\n",
      "Looking up for exact location of files: OK (1 files)                 \n",
      "Looking up for exact location of files: OK (1 files)                 \n",
      "Info in <TPacketizer::TPacketizer>: Initial number of workers: 2\n",
      "Validating files: OK (1 files)                 \n",
      "[TProof::Progress] Total 164716 events\t|====================| 100.00 % [17509.9 evts/s, 10.2 MB/s, time left: 0.0 s]\n",
      " Query processing time: 9.4 s\n",
      "Writting with name option: ggH125_ZZ4lep \n",
      "Lite-0: all output objects have been merged                                                         \n",
      " \n",
      "Info in <TProofLite::SetQueryRunning>: starting query: 28\n",
      "Info in <TProofQueryResult::SetRunning>: nwrks: 2\n",
      "Info in <ACLiC>: unmodified script has already been compiled and loaded\n",
      "Looking up for exact location of files: OK (1 files)                 \n",
      "Looking up for exact location of files: OK (1 files)                 \n",
      "Info in <TPacketizer::TPacketizer>: Initial number of workers: 2\n",
      "Validating files: OK (1 files)                 \n",
      "[TProof::Progress] Total 14485 events\t|====================| 100.00 % [3074.1 evts/s, 2.1 MB/s, time left: 0.0 s]\n",
      " Query processing time: 4.7 s\n",
      "Writting with name option: ZH125_ZZ4lep \n",
      "Lite-0: all output objects have been merged                                                         \n",
      " \n",
      "Info in <TProofLite::SetQueryRunning>: starting query: 29\n",
      "Info in <TProofQueryResult::SetRunning>: nwrks: 2\n",
      "Info in <ACLiC>: unmodified script has already been compiled and loaded\n",
      "Looking up for exact location of files: OK (1 files)                 \n",
      "Looking up for exact location of files: OK (1 files)                 \n",
      "Info in <TPacketizer::TPacketizer>: Initial number of workers: 2\n",
      "Validating files: OK (1 files)                 \n",
      "[TProof::Progress] Total 15379 events\t|====================| 100.00 % [3221.4 evts/s, 2.1 MB/s, time left: 0.0 s]\n",
      " Query processing time: 4.8 s\n",
      "Writting with name option: WH125_ZZ4lep \n",
      "Lite-0: all output objects have been merged                                                         \n",
      " \n",
      "Info in <TProofLite::SetQueryRunning>: starting query: 30\n",
      "Info in <TProofQueryResult::SetRunning>: nwrks: 2\n",
      "Info in <ACLiC>: unmodified script has already been compiled and loaded\n",
      "Looking up for exact location of files: OK (1 files)                 \n",
      "Looking up for exact location of files: OK (1 files)                 \n",
      "Info in <TPacketizer::TPacketizer>: Initial number of workers: 2\n",
      "Validating files: OK (1 files)                 \n",
      "[TProof::Progress] Total 191126 events\t|====================| 100.00 % [21023.7 evts/s, 12.7 MB/s, time left: 0.0 s]\n",
      " Query processing time: 9.1 s\n",
      "Writting with name option: VBFH125_ZZ4lep \n",
      "Lite-0: all output objects have been merged                                                         \n",
      "end of ROOT execution\n",
      "\n",
      "real\t2m7.513s\n",
      "user\t0m56.392s\n",
      "sys\t1m4.536s\n"
     ]
    }
   ],
   "source": [
    "time echo $'0\\n1' | ./run.sh"
   ]
  },
  {
   "cell_type": "code",
   "execution_count": 10,
   "metadata": {
    "collapsed": false
   },
   "outputs": [
    {
     "name": "stdout",
     "output_type": "stream",
     "text": [
      "/home/student/demo/atlas-outreach-cpp-framework-13tev/Alpha/Plotting\n"
     ]
    }
   ],
   "source": [
    " cd ../../Plotting/\n",
    " pwd\n"
   ]
  },
  {
   "cell_type": "code",
   "execution_count": 11,
   "metadata": {
    "collapsed": false
   },
   "outputs": [
    {
     "name": "stdout",
     "output_type": "stream",
     "text": [
      "WELCOME!! Which analysis you want to plot?\n",
      "Input your option now (and click <ENTER>):\n",
      "0 = WBosonAnalysis\n",
      "1 = ZBosonAnalysis\n",
      "2 = TTbarAnalysis\n",
      "3 = SingleTopAnalysis\n",
      "4 = WZDiBosonAnalysis\n",
      "5 = ZZDiBosonAnalysis\n",
      "6 = HWWAnalysis\n",
      "7 = HZZAnalysis\n",
      "8 = ZTauTauAnalysis\n",
      "9 = HyyAnalysis\n",
      "10 = SUSYAnalysis\n",
      "11 = ZPrimeBoostedAnalysis\n",
      "Now, choose the location of the HZZAnalysis output!\n",
      "If the location corresponds to ../Analysis/HZZAnalysis/Output_HZZAnalysis: type 0\n",
      "If you have a custom location path: type 1\n",
      "\n",
      "tab completion not implemented for this context\n",
      "Info in <TUnixSystem::ACLiC>: creating shared library /home/student/demo/atlas-outreach-cpp-framework-13tev/Alpha/Plotting/./Plotting_cxx.so\n",
      "\n",
      "tab completion not implemented for this context\n",
      "\n",
      "tab completion not implemented for this context\n",
      "\n",
      "tab completion not implemented for this context\n",
      "\n",
      "tab completion not implemented for this context\n",
      "\n",
      "tab completion not implemented for this context\n",
      "\n",
      " ---------------------DISCLAIMER--------------------- \n",
      "\n",
      "This Software is intended for educational use only!\n",
      "Under no circumstances does it qualify to reproduce actual ATLAS analysis results or produce publishable results! \n",
      "\n",
      " ---------------------------------------------------- \n",
      "\n",
      "Analysis option found, proceeding...\n",
      "Analysis: HZZAnalysis, reading input from: inputfiles/Files_HZZ.txt \n",
      " \n",
      "\n",
      " Reading files from: ../Analysis/HZZAnalysis/Output_HZZAnalysis \n",
      " \n",
      "=====processing HZZAnalysis=====\n",
      "\n",
      "\n",
      "Plotting histogram: hist_fourlepsys_pt\n",
      "Yields:Data: 320,  Higgs: 8.30323,  ZZ: 298.606,  Other: 12.1073,  Total pred.: 310.713\n",
      "Info in <TCanvas::Print>: png file histograms/hist_fourlepsys_pt.png has been created\n",
      "Info in <TCanvas::Print>: pdf file histograms/hist_fourlepsys_pt.pdf has been created\n",
      "Plotting histogram: hist_fourlepsys_y\n",
      "Yields:Data: 327,  Higgs: 8.52842,  ZZ: 304.733,  Other: 12.5502,  Total pred.: 317.284\n",
      "Info in <TCanvas::Print>: png file histograms/hist_fourlepsys_y.png has been created\n",
      "Info in <TCanvas::Print>: pdf file histograms/hist_fourlepsys_y.pdf has been created\n",
      "Plotting histogram: hist_fourleptE\n",
      "Yields:Data: 1258,  Higgs: 33.94,  ZZ: 1172.76,  Other: 49.5228,  Total pred.: 1222.28\n",
      "Info in <TCanvas::Print>: png file histograms/hist_fourleptE.png has been created\n",
      "Info in <TCanvas::Print>: pdf file histograms/hist_fourleptE.pdf has been created\n",
      "Plotting histogram: hist_fourleptID\n",
      "Yields:Data: 1308,  Higgs: 34.1138,  ZZ: 1218.88,  Other: 50.2008,  Total pred.: 1269.08\n",
      "Info in <TCanvas::Print>: png file histograms/hist_fourleptID.png has been created\n",
      "Info in <TCanvas::Print>: pdf file histograms/hist_fourleptID.pdf has been created\n",
      "Plotting histogram: hist_fourleptch\n",
      "Yields:Data: 1308,  Higgs: 34.1138,  ZZ: 1218.88,  Other: 50.2008,  Total pred.: 1269.08\n",
      "Info in <TCanvas::Print>: png file histograms/hist_fourleptch.png has been created\n",
      "Info in <TCanvas::Print>: pdf file histograms/hist_fourleptch.pdf has been created\n",
      "Plotting histogram: hist_fourlepteta\n",
      "Yields:Data: 1308,  Higgs: 34.1137,  ZZ: 1218.93,  Other: 50.2008,  Total pred.: 1269.13\n",
      "Info in <TCanvas::Print>: png file histograms/hist_fourlepteta.png has been created\n",
      "Info in <TCanvas::Print>: pdf file histograms/hist_fourlepteta.pdf has been created\n",
      "Plotting histogram: hist_fourleptphi\n",
      "Yields:Data: 1308,  Higgs: 34.1137,  ZZ: 1218.93,  Other: 50.2008,  Total pred.: 1269.13\n",
      "Info in <TCanvas::Print>: png file histograms/hist_fourleptphi.png has been created\n",
      "Info in <TCanvas::Print>: pdf file histograms/hist_fourleptphi.pdf has been created\n",
      "Plotting histogram: hist_fourleptpt\n",
      "Yields:Data: 1299,  Higgs: 34.0922,  ZZ: 1207.27,  Other: 49.7418,  Total pred.: 1257.01\n",
      "Info in <TCanvas::Print>: png file histograms/hist_fourleptpt.png has been created\n",
      "Info in <TCanvas::Print>: pdf file histograms/hist_fourleptpt.pdf has been created\n",
      "Plotting histogram: hist_mLL1\n",
      "Yields:Data: 285,  Higgs: 6.78577,  ZZ: 263.51,  Other: 9.1826,  Total pred.: 272.692\n",
      "Info in <TCanvas::Print>: png file histograms/hist_mLL1.png has been created\n",
      "Info in <TCanvas::Print>: pdf file histograms/hist_mLL1.pdf has been created\n",
      "Plotting histogram: hist_mLL2\n",
      "Yields:Data: 268,  Higgs: 7.93799,  ZZ: 249.832,  Other: 7.89695,  Total pred.: 257.729\n",
      "Info in <TCanvas::Print>: png file histograms/hist_mLL2.png has been created\n",
      "Info in <TCanvas::Print>: pdf file histograms/hist_mLL2.pdf has been created\n",
      "Plotting histogram: mass_ext_four_lep\n",
      "Yields:Data: 220,  Higgs: 8.51823,  ZZ: 194.388,  Other: 11.5417,  Total pred.: 205.93\n",
      "Info in <TCanvas::Print>: png file histograms/mass_ext_four_lep.png has been created\n",
      "Info in <TCanvas::Print>: pdf file histograms/mass_ext_four_lep.pdf has been created\n",
      "Plotting histogram: mass_four_lep\n",
      "Yields:Data: 96,  Higgs: 8.51063,  ZZ: 70.766,  Other: 8.27513,  Total pred.: 79.0412\n",
      "Info in <TCanvas::Print>: png file histograms/mass_four_lep.png has been created\n",
      "Info in <TCanvas::Print>: pdf file histograms/mass_four_lep.pdf has been created\n",
      "\n",
      "tab completion not implemented for this context\n"
     ]
    }
   ],
   "source": [
    "echo $'7\\n0' | ./plotme.sh"
   ]
  },
  {
   "cell_type": "markdown",
   "metadata": {},
   "source": [
    "![mass_four_lep](https://raw.githubusercontent.com/artfisica/ICTP-2019/master/histograms/mass_four_lep.png)"
   ]
  },
  {
   "cell_type": "code",
   "execution_count": 12,
   "metadata": {
    "collapsed": false
   },
   "outputs": [
    {
     "name": "stdout",
     "output_type": "stream",
     "text": [
      "/home/student/demo/atlas-outreach-cpp-framework-13tev/Alpha/Plotting\n"
     ]
    }
   ],
   "source": [
    "pwd"
   ]
  },
  {
   "cell_type": "code",
   "execution_count": 13,
   "metadata": {
    "collapsed": false
   },
   "outputs": [
    {
     "name": "stdout",
     "output_type": "stream",
     "text": [
      "-rw-r--r-- 1 summerstudent users 24K Okt 30 00:57 \u001b[0m\u001b[01;35mhistograms/hist_fourlepsys_pt.png\u001b[0m\n",
      "-rw-r--r-- 1 summerstudent users 22K Okt 30 00:57 \u001b[01;35mhistograms/hist_fourlepsys_y.png\u001b[0m\n",
      "-rw-r--r-- 1 summerstudent users 22K Okt 30 00:57 \u001b[01;35mhistograms/hist_fourleptE.png\u001b[0m\n",
      "-rw-r--r-- 1 summerstudent users 19K Okt 30 00:57 \u001b[01;35mhistograms/hist_fourleptID.png\u001b[0m\n",
      "-rw-r--r-- 1 summerstudent users 18K Okt 30 00:57 \u001b[01;35mhistograms/hist_fourleptch.png\u001b[0m\n",
      "-rw-r--r-- 1 summerstudent users 22K Okt 30 00:57 \u001b[01;35mhistograms/hist_fourlepteta.png\u001b[0m\n",
      "-rw-r--r-- 1 summerstudent users 20K Okt 30 00:57 \u001b[01;35mhistograms/hist_fourleptphi.png\u001b[0m\n",
      "-rw-r--r-- 1 summerstudent users 22K Okt 30 00:57 \u001b[01;35mhistograms/hist_fourleptpt.png\u001b[0m\n",
      "-rw-r--r-- 1 summerstudent users 24K Okt 30 00:57 \u001b[01;35mhistograms/hist_mLL1.png\u001b[0m\n",
      "-rw-r--r-- 1 summerstudent users 26K Okt 30 00:57 \u001b[01;35mhistograms/hist_mLL2.png\u001b[0m\n",
      "-rw-r--r-- 1 summerstudent users 27K Okt 30 00:57 \u001b[01;35mhistograms/mass_ext_four_lep.png\u001b[0m\n",
      "-rw-r--r-- 1 summerstudent users 25K Okt 30 00:57 \u001b[01;35mhistograms/mass_four_lep.png\u001b[0m\n"
     ]
    }
   ],
   "source": [
    "ls -lhrt histograms/*png"
   ]
  },
  {
   "cell_type": "markdown",
   "metadata": {},
   "source": [
    "<img src=\"https://raw.githubusercontent.com/artfisica/ICTP-2019/master/histograms/hist_mLL1.png\" alt=\"mass\" width=\"500\" height=\"400\">"
   ]
  },
  {
   "cell_type": "code",
   "execution_count": 14,
   "metadata": {
    "collapsed": false
   },
   "outputs": [
    {
     "name": "stdout",
     "output_type": "stream",
     "text": [
      "Mit Okt 30 00:57:42 CET 2019\n"
     ]
    }
   ],
   "source": [
    "date"
   ]
  },
  {
   "cell_type": "code",
   "execution_count": null,
   "metadata": {
    "collapsed": true
   },
   "outputs": [],
   "source": []
  }
 ],
 "metadata": {
  "kernelspec": {
   "display_name": "Bash",
   "language": "bash",
   "name": "bash"
  },
  "language_info": {
   "codemirror_mode": "shell",
   "file_extension": ".sh",
   "mimetype": "text/x-sh",
   "name": "bash"
  }
 },
 "nbformat": 4,
 "nbformat_minor": 1
}
